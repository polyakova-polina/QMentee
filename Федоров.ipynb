{
  "nbformat": 4,
  "nbformat_minor": 0,
  "metadata": {
    "colab": {
      "provenance": [],
      "authorship_tag": "ABX9TyPFi1nwHTwtHix10rPehG5r",
      "include_colab_link": true
    },
    "kernelspec": {
      "name": "python3",
      "display_name": "Python 3"
    },
    "language_info": {
      "name": "python"
    }
  },
  "cells": [
    {
      "cell_type": "markdown",
      "metadata": {
        "id": "view-in-github",
        "colab_type": "text"
      },
      "source": [
        "<a href=\"https://colab.research.google.com/github/polyakova-polina/QMentee/blob/main/%D0%A4%D0%B5%D0%B4%D0%BE%D1%80%D0%BE%D0%B2.ipynb\" target=\"_parent\"><img src=\"https://colab.research.google.com/assets/colab-badge.svg\" alt=\"Open In Colab\"/></a>"
      ]
    },
    {
      "cell_type": "code",
      "source": [
        "!pip install qiskit --quiet\n",
        "!pip install matplotlib --quiet\n",
        "!pip install pylatexenc --quiet\n",
        "!pip install qiskit.providers.ibmq --quiet"
      ],
      "metadata": {
        "colab": {
          "base_uri": "https://localhost:8080/"
        },
        "id": "mP17bxUgyQct",
        "outputId": "5ae334d7-9dbe-4d47-ffb2-75c52e3f7ddd"
      },
      "execution_count": 15,
      "outputs": [
        {
          "output_type": "stream",
          "name": "stdout",
          "text": [
            "\u001b[?25l     \u001b[90m━━━━━━━━━━━━━━━━━━━━━━━━━━━━━━━━━━━━━━━━\u001b[0m \u001b[32m0.0/162.6 kB\u001b[0m \u001b[31m?\u001b[0m eta \u001b[36m-:--:--\u001b[0m\r\u001b[2K     \u001b[91m━━━━━━━━━━━━━━━━━━━━\u001b[0m\u001b[90m╺\u001b[0m\u001b[90m━━━━━━━━━━━━━━━━━━━\u001b[0m \u001b[32m81.9/162.6 kB\u001b[0m \u001b[31m2.2 MB/s\u001b[0m eta \u001b[36m0:00:01\u001b[0m\r\u001b[2K     \u001b[90m━━━━━━━━━━━━━━━━━━━━━━━━━━━━━━━━━━━━━━━\u001b[0m \u001b[32m162.6/162.6 kB\u001b[0m \u001b[31m3.2 MB/s\u001b[0m eta \u001b[36m0:00:00\u001b[0m\n",
            "\u001b[?25h  Preparing metadata (setup.py) ... \u001b[?25l\u001b[?25hdone\n",
            "  Building wheel for pylatexenc (setup.py) ... \u001b[?25l\u001b[?25hdone\n",
            "\u001b[31mERROR: Could not find a version that satisfies the requirement qiskit.providers.ibmq (from versions: none)\u001b[0m\u001b[31m\n",
            "\u001b[0m\u001b[31mERROR: No matching distribution found for qiskit.providers.ibmq\u001b[0m\u001b[31m\n",
            "\u001b[0m"
          ]
        }
      ]
    },
    {
      "cell_type": "code",
      "source": [
        "from qiskit.quantum_info import Statevector, Operator\n",
        "import numpy as np\n",
        "import pylatexenc"
      ],
      "metadata": {
        "id": "nE3pJ_pc1KUm"
      },
      "execution_count": 16,
      "outputs": []
    },
    {
      "cell_type": "code",
      "source": [
        "# initialization\n",
        "import matplotlib.pyplot as plt\n",
        "import numpy as np\n",
        "\n",
        "# importing Qiskit\n",
        "from qiskit import IBMQ, Aer\n",
        "from qiskit import QuantumCircuit, ClassicalRegister, QuantumRegister, transpile\n",
        "\n",
        "# import basic plot tools\n",
        "from qiskit.visualization import plot_histogram"
      ],
      "metadata": {
        "id": "nVVezVRgyLVK"
      },
      "execution_count": 17,
      "outputs": []
    },
    {
      "cell_type": "code",
      "source": [
        "from qiskit.providers.ibmq import least_busy"
      ],
      "metadata": {
        "id": "Kog0ijVBz88B"
      },
      "execution_count": null,
      "outputs": []
    },
    {
      "cell_type": "code",
      "source": [
        "n = 3 # number of qubits used to represent s\n",
        "s = '011'   # the hidden binary string"
      ],
      "metadata": {
        "id": "9cS_LMN7yPAG"
      },
      "execution_count": 18,
      "outputs": []
    },
    {
      "cell_type": "code",
      "source": [
        "# We need a circuit with n qubits, plus one auxiliary qubit\n",
        "# Also need n classical bits to write the output to\n",
        "bv_circuit = QuantumCircuit(n+1, n)\n",
        "\n",
        "# put auxiliary in state |->\n",
        "bv_circuit.h(n)\n",
        "bv_circuit.z(n)\n",
        "\n",
        "# Apply Hadamard gates before querying the oracle\n",
        "for i in range(n):\n",
        "    bv_circuit.h(i)\n",
        "\n",
        "# Apply barrier\n",
        "bv_circuit.barrier()\n",
        "\n",
        "# Apply the inner-product oracle\n",
        "s = s[::-1] # reverse s to fit qiskit's qubit ordering\n",
        "for q in range(n):\n",
        "    if s[q] == '0':\n",
        "        bv_circuit.i(q)\n",
        "    else:\n",
        "        bv_circuit.cx(q, n)\n",
        "\n",
        "# Apply barrier\n",
        "bv_circuit.barrier()\n",
        "\n",
        "#Apply Hadamard gates after querying the oracle\n",
        "for i in range(n):\n",
        "    bv_circuit.h(i)\n",
        "\n",
        "# Measurement\n",
        "for i in range(n):\n",
        "    bv_circuit.measure(i, i)\n",
        "\n",
        "bv_circuit.draw()"
      ],
      "metadata": {
        "colab": {
          "base_uri": "https://localhost:8080/",
          "height": 186
        },
        "id": "dYkdeSidzC4g",
        "outputId": "2bb9ff27-01e0-4391-acdc-75ec5006984a"
      },
      "execution_count": 20,
      "outputs": [
        {
          "output_type": "execute_result",
          "data": {
            "text/plain": [
              "     ┌───┐      ░ ┌───┐      ░ ┌───┐┌─┐      \n",
              "q_0: ┤ H ├──────░─┤ I ├──────░─┤ H ├┤M├──────\n",
              "     ├───┤      ░ └───┘      ░ ├───┤└╥┘┌─┐   \n",
              "q_1: ┤ H ├──────░───■────────░─┤ H ├─╫─┤M├───\n",
              "     ├───┤      ░   │        ░ ├───┤ ║ └╥┘┌─┐\n",
              "q_2: ┤ H ├──────░───┼────■───░─┤ H ├─╫──╫─┤M├\n",
              "     ├───┤┌───┐ ░ ┌─┴─┐┌─┴─┐ ░ └───┘ ║  ║ └╥┘\n",
              "q_3: ┤ H ├┤ Z ├─░─┤ X ├┤ X ├─░───────╫──╫──╫─\n",
              "     └───┘└───┘ ░ └───┘└───┘ ░       ║  ║  ║ \n",
              "c: 3/════════════════════════════════╩══╩══╩═\n",
              "                                     0  1  2 "
            ],
            "text/html": [
              "<pre style=\"word-wrap: normal;white-space: pre;background: #fff0;line-height: 1.1;font-family: &quot;Courier New&quot;,Courier,monospace\">     ┌───┐      ░ ┌───┐      ░ ┌───┐┌─┐      \n",
              "q_0: ┤ H ├──────░─┤ I ├──────░─┤ H ├┤M├──────\n",
              "     ├───┤      ░ └───┘      ░ ├───┤└╥┘┌─┐   \n",
              "q_1: ┤ H ├──────░───■────────░─┤ H ├─╫─┤M├───\n",
              "     ├───┤      ░   │        ░ ├───┤ ║ └╥┘┌─┐\n",
              "q_2: ┤ H ├──────░───┼────■───░─┤ H ├─╫──╫─┤M├\n",
              "     ├───┤┌───┐ ░ ┌─┴─┐┌─┴─┐ ░ └───┘ ║  ║ └╥┘\n",
              "q_3: ┤ H ├┤ Z ├─░─┤ X ├┤ X ├─░───────╫──╫──╫─\n",
              "     └───┘└───┘ ░ └───┘└───┘ ░       ║  ║  ║ \n",
              "c: 3/════════════════════════════════╩══╩══╩═\n",
              "                                     0  1  2 </pre>"
            ]
          },
          "metadata": {},
          "execution_count": 20
        }
      ]
    },
    {
      "cell_type": "code",
      "source": [
        "!pip install qiskit-aer --quiet"
      ],
      "metadata": {
        "id": "qwUEctTD28uM"
      },
      "execution_count": 24,
      "outputs": []
    },
    {
      "cell_type": "code",
      "source": [
        "# use local simulator\n",
        "aer_sim = Aer.get_backend('aer_simulator')\n",
        "shots = 1024\n",
        "results = aer_sim.run(bv_circuit).result()\n",
        "answer = results.get_counts()\n",
        "\n",
        "plot_histogram(answer)"
      ],
      "metadata": {
        "colab": {
          "base_uri": "https://localhost:8080/",
          "height": 472
        },
        "id": "8LhwxPwc0Fms",
        "outputId": "cd460102-91a4-46f1-8a3e-76de23d1a71d"
      },
      "execution_count": 23,
      "outputs": [
        {
          "output_type": "execute_result",
          "data": {
            "text/plain": [
              "<Figure size 700x500 with 1 Axes>"
            ],
            "image/png": "[encoded data removed]"
          },
          "metadata": {},
          "execution_count": 23
        }
      ]
    }
  ]
}